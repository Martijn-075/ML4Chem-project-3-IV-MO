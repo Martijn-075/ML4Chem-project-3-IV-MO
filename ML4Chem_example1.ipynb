{
 "cells": [
  {
   "cell_type": "markdown",
   "id": "945b8068-2358-4823-a595-ea2a75e4e543",
   "metadata": {},
   "source": [
    "# Machine learning for Chemistry - tutorial\n",
    "\n",
    "## Project example 1  - Recurrent Neural networks\n",
    "\n",
    "In this computer tutorial, we will build a recurrent neural network (RNN) to generate molecular structures. Several topics that we have learned throughout this course will come together in this assignment, including:\n",
    "* SMILES codes to represent molecules,\n",
    "* the RDKit library to draw molecular structures,\n",
    "* the cross-entropy, which we will use for the loss function,\n",
    "* PyTorch to design the neural network.\n",
    "\n",
    "The main new concepts that we will learn in this tutorial are: \n",
    "1. building, training, and applying a recurrent neural network, \n",
    "1. using a neural network for generative modeling.\n",
    "\n",
    "\n",
    "RNNs are powerful neural network architectures that can deal with sequential data and with time series. In contrast to a vanilla feed-forward neural network in which an input data point, $x_i$, transfers from the first hidden layer to the last hidden layer to result in an output $y_i$, in a recurrent neural network, an input $x_i$ is not only passed from the first hidden layer forward to the next layer, but also backward to work as input to the same hidden unit again. As a result, $x_i$ not only determines $y_i$, but also affects (together with $x_{i+1}$) the next output $y_{i+1}$, and also later output values. The network is said to have _memory_.\n",
    "\n",
    "A common application for RNNs is in natural language processing, text can be seen as a sequences of sentences, a sentence is a sequence of words, and a word is a sequences of letters. For a given language, there is a relation between the letters in a word, and between the words in a sentence. In other words, given the first three letters of a word, for example \"mac\", the probability for a possible fourth letters is not a flat distribution over the English alphabet.\n",
    "\n",
    "\n",
    "In this tutorial, we will use an RNN to learn the pattern in molecules and use that to construct new molecules. This is done using the SMILES representations of the molecules. A SMILES code is a sequence of letters and special tokens, which can be seen as words of a special language with a simple grammar.\n",
    "\n",
    "We train the network to predict the next character in SMILES strings based on the previous character and the current memory state. The loss function represents a penalty for the incorrect prediction for the next character. When the network is trained enough, we can use it to sample new compounds. For sampling, we just put a <BOS> (begin of sequence) symbol as the initial token, and the network generates the next token. At the next step, we use this token as input and repeat the process to generate the full sequence of tokens. \n",
    "\n",
    "Tasks to fulfill:\n",
    "* build a RNN with pytorch\n",
    "* learn how to save and load the state of a (partially) trained neural network\n",
    "* generate new SMILES codes\n",
    "* visualize the generated molecules\n"
   ]
  },
  {
   "cell_type": "code",
   "execution_count": 1,
   "id": "3ad90e00-c1d0-4d66-89b6-b9afc3518a9c",
   "metadata": {},
   "outputs": [],
   "source": [
    "# # first we load some useful libraries\n",
    "import random\n",
    "import torch\n",
    "import torch.nn as nn\n",
    "import torch.nn.functional as F\n",
    "from torch.nn.functional import one_hot\n",
    "import functools\n",
    "from tqdm import tqdm\n",
    "from rdkit import RDLogger\n",
    "from rdkit import Chem\n",
    "from rdkit.Chem import Draw\n",
    "\n",
    "__special__ = {0: \"<PAD>\", 1: \"<BOS>\", 2: \"<EOS>\"}\n",
    "RDLogger.DisableLog('rdApp.*')"
   ]
  },
  {
   "cell_type": "markdown",
   "id": "f4c84097-e483-4dc6-90e4-f1c852969616",
   "metadata": {},
   "source": [
    "The class “SmilesProvider” inherits the PyTorch DataLoader class. At initialization, it \"tokenizes\" all molecules from a dataset and builds a dictionary with indexes for each SMILES token. Here a token is the smallest unit  used to make Smiles \"words\" and is made from 1 or 2 characters, such as \"c\", \"C\", \"Si\", etc.\n",
    "\n",
    "In the following cell the “SmilesProvider” class is defined. We will just make of the class as is, e.g. to read the training set. \n",
    "\n",
    "$\\color{DarkBlue}{\\textbf{Task:}}$\n",
    "* try to understand which <code>file</code> this class reads. This file is provided in the Canvas Module. Download and add this file to the same folder as this jupyter file. Open the file in jupyter lab or in a text editor, to see what is in this file.\n",
    "* execute the cell\n"
   ]
  },
  {
   "cell_type": "code",
   "execution_count": 2,
   "id": "657d72ab-bc55-4776-8b2d-132063c5f2b1",
   "metadata": {},
   "outputs": [],
   "source": [
    "class SmilesProvider(torch.utils.data.DataLoader):\n",
    "    def __init__(self, file, total=130):\n",
    "        self.total = total\n",
    "        self.smiles = open(file, 'r').read().split(\"\\n\")[:-1]\n",
    "        tokens = functools.reduce(lambda acc,s: acc.union(set(s)), self.smiles ,set())\n",
    "        self.vocsize = len(tokens) + len(__special__)\n",
    "        self.index2token = dict(enumerate(tokens,start=3))\n",
    "        self.index2token.update(__special__)\n",
    "        self.token2index = {v:k for k,v in self.index2token.items()}\n",
    "        self.ints = [torch.LongTensor([self.token2index[s] for s in line]) for line in tqdm(self.smiles,\"Preparing of a dataset\")]\n",
    "\n",
    "    def decode(self,indexes):\n",
    "        return \"\".join([self.index2token[index] for index in indexes if index not in __special__])\n",
    "\n",
    "    def __getitem__(self,i):\n",
    "        special_added = torch.cat((torch.LongTensor([self.token2index['<BOS>']])\n",
    "                                   ,self.ints[i],torch.LongTensor([self.token2index['<EOS>']]),\n",
    "                                   torch.LongTensor([self.token2index[\"<PAD>\"]]*(self.total-len(self.ints[i])-2))),dim=0)\n",
    "        return one_hot(special_added,self.vocsize).float(),special_added\n",
    "\n",
    "    def __len__(self):\n",
    "        return len(self.smiles)\n",
    "    "
   ]
  },
  {
   "cell_type": "markdown",
   "id": "80202a66-1a42-415b-9b8b-9c49416cd438",
   "metadata": {},
   "source": [
    "Also the following class, we will just use and run as is..."
   ]
  },
  {
   "cell_type": "code",
   "execution_count": 3,
   "id": "9bac67a5-9fa1-4a58-b68b-09b4fbe44ff2",
   "metadata": {},
   "outputs": [],
   "source": [
    "class SimpleGRU(nn.Module):\n",
    "\n",
    "    def __init__(self, vocsize, device, hidden_size=512, num_layers=3):\n",
    "        super().__init__()\n",
    "        self.device = device\n",
    "        self.vocsize = vocsize\n",
    "        self.hidden_size = hidden_size\n",
    "        self.num_layers = num_layers\n",
    "        self.gru = nn.GRU(vocsize, hidden_size, bidirectional=False, batch_first=True, num_layers=num_layers)\n",
    "        self.linear = nn.Linear(hidden_size, vocsize)\n",
    "\n",
    "\n",
    "    def forward(self, x):\n",
    "        output = self.gru(x)[0]\n",
    "        final = self.linear(output)\n",
    "        return final\n",
    "\n",
    "    def sample(self,batch_size=128,max_len=130):\n",
    "        bos_token = [k for k,v in __special__.items() if v == \"<BOS>\"][0]\n",
    "        x = torch.LongTensor([bos_token]*batch_size)\n",
    "        h = torch.zeros((self.num_layers,batch_size,self.hidden_size)).to(self.device)\n",
    "        accumulator = torch.zeros(batch_size,max_len)\n",
    "        print(h.size())\n",
    "        for i in range(max_len):\n",
    "            x = one_hot(x, self.vocsize).float().unsqueeze(1).to(self.device)\n",
    "            output,h = self.gru(x,h)\n",
    "            next = F.softmax(self.linear(output).squeeze(1),dim=1)\n",
    "            x = torch.multinomial(next,num_samples=1,replacement=True).squeeze(1)\n",
    "            accumulator[:,i] = x\n",
    "        return accumulator"
   ]
  },
  {
   "cell_type": "markdown",
   "id": "887fae8c-fe05-4061-af7d-4826418ad0d2",
   "metadata": {},
   "source": [
    "## Generating Smiles strings\n",
    "\n",
    "The <code>generate()</code> function generates Smiles strings.\n",
    "\n",
    "$\\color{DarkBlue}{\\textbf{Task:}}$\n",
    "* Use the RDKit function <code>Chem.MolFromSmiles()</code> to check if the produced Smiles is valid (it returns \"None\" on failure) and increase the variable <code>correct</code> otherwise.\n",
    "* Set the PyTorch model in the <code>eval</code> modus in the correct place. (Note that this can be anywhere in the cell below)"
   ]
  },
  {
   "cell_type": "code",
   "execution_count": 4,
   "id": "009be3a5-cd38-4299-98df-d4834e1b8f27",
   "metadata": {},
   "outputs": [
    {
     "name": "stdout",
     "output_type": "stream",
     "text": [
      "torch.Size([3, 64, 512])\n",
      "76.5625 %\n"
     ]
    }
   ],
   "source": [
    "def generate(file='genmodel.pt',batch_size=64):\n",
    "    \"\"\"\n",
    "    This is the entrypoint for the generator of SMILES\n",
    "    :param file: A file with pretrained model\n",
    "    :param batch_size: The number of compounds to generate\n",
    "    :return: None. It prints a list of generated compounds to stdout\n",
    "    \"\"\"\n",
    "    box= torch.load(file)\n",
    "    model,tokenizer = box['model'],box['tokenizer']\n",
    "    model.eval()\n",
    "    res = model.sample(batch_size)\n",
    "    correct = 0\n",
    "    list_smiles = []\n",
    "    for i in range(res.size(0)):\n",
    "        smiles = \"\".join([tokenizer[index] for index in res[i].tolist() if index not in __special__])\n",
    "        # print(smiles)\n",
    "# ======== start your code here =================================\n",
    "        if Chem.MolFromSmiles(smiles) != None:\n",
    "            correct += 1\n",
    "            list_smiles.append(smiles)\n",
    "# ======== end your code here ===================================\n",
    "    # print (\"% of correct molecules is {:4.2f}\".format(correct/float(batch_size)*100))\n",
    "    return list_smiles, correct/float(batch_size)*100\n",
    "\n",
    "s, c = generate()\n",
    "print(c, \"%\")\n"
   ]
  },
  {
   "cell_type": "markdown",
   "id": "0e7c0973-f319-46f9-8041-3c562f36b56d",
   "metadata": {},
   "source": [
    "## Training the RNN\n",
    "\n",
    "The recurrent neural network learns valid Smiles strings from the training data set of Smiles examples. However, running the training takes a lot of time, een on a fast GPU. \n",
    "\n",
    "We will therefore not actually perform the training here. Instead, we will load a trained state of the model and use that to do predictions.\n",
    "\n",
    "Nevertheless, let's have a look at the training function <code>train</code> below, and fill in a number of blancs in the code.\n",
    "\n",
    "$\\color{DarkBlue}{\\textbf{Task 1:}}$\n",
    "In the relevant section below, add the following:\n",
    "* set the <code>optimizer</code> variable to the \"Adam\" optimizer of Pytorch\n",
    "* set the <code>loss_function</code> variable to a cross-entropy loss function from PyTorch nn module\n",
    "* switch the PyTorch optimizer in the \"train\" mode.\n",
    "\n",
    "$\\color{DarkBlue}{\\textbf{Task 2:}}$\n",
    "In the relevant sections below, add in the correct spots:\n",
    "* set the gradiants of the PyTorch optimizer to zero\n",
    "* compute the backprop gradients for the loss function\n",
    "* do a step with the optimizer"
   ]
  },
  {
   "cell_type": "code",
   "execution_count": 9,
   "id": "2838e671-e5c9-4c7b-87a8-53085b1c2fc3",
   "metadata": {},
   "outputs": [
    {
     "name": "stderr",
     "output_type": "stream",
     "text": [
      "Preparing of a dataset: 100%|██████████| 249456/249456 [00:02<00:00, 115756.94it/s]\n",
      "Training:   0%|          | 0/975 [00:00<?, ?it/s]"
     ]
    },
    {
     "name": "stdout",
     "output_type": "stream",
     "text": [
      "torch.Size([256, 37, 130]) torch.Size([256, 130])\n"
     ]
    },
    {
     "name": "stderr",
     "output_type": "stream",
     "text": [
      "Training:   0%|          | 0/975 [00:00<?, ?it/s]"
     ]
    },
    {
     "name": "stdout",
     "output_type": "stream",
     "text": [
      "tensor(3.6281, device='cuda:0', grad_fn=<NllLoss2DBackward0>)\n"
     ]
    },
    {
     "name": "stderr",
     "output_type": "stream",
     "text": [
      "\n"
     ]
    }
   ],
   "source": [
    "def train(file='250k.smi',batch_size=256,learning_rate=0.001,n_epochs=1,device='cuda'):\n",
    "    \"\"\"\n",
    "    This is the entrypoint for training of the RNN\n",
    "    :param file: A file with molecules in SMILES notation\n",
    "    :param batch_size: A batch size for training\n",
    "    :param learning_rate: A learning rate of the optimizer\n",
    "    :param n_epochs: A number of epochs\n",
    "    :param device: \"cuda\" for GPU training, \"cpu\" for training on CPU, if there are no CUDA on a computer it uses CPU only\n",
    "    :return: None. It saves the model to \"genmodel.pt\" file\n",
    "    \"\"\"\n",
    "    device = device if torch.cuda.is_available() else 'cpu'\n",
    "    dataset = SmilesProvider(file)\n",
    "    model = SimpleGRU(dataset.vocsize,device=device).to(device)\n",
    "    dataloader = torch.utils.data.DataLoader(dataset, batch_size=batch_size, shuffle=True)\n",
    "# ======== TASK 1 start your code here =================================\n",
    "    optimizer = torch.optim.Adam(model.parameters(), lr=learning_rate)\n",
    "    loss_function = nn.CrossEntropyLoss()\n",
    "    model.train()\n",
    "# ======== TASK 1 end your code here ===================================\n",
    "    for epoch in range(1, n_epochs + 1):\n",
    "        for iteration,(batch,target) in enumerate(tqdm(dataloader,'Training')):\n",
    "            batch,target = batch.to(device),target.to(device)\n",
    "            out = model(batch)\n",
    "            out = out.transpose(2,1)\n",
    "            loss = loss_function(out[:,:,:-1],target[:,1:])\n",
    "            print(out.size(), target.size())\n",
    "            print(loss)\n",
    "# ======== TASK 2 start your code here =================================\n",
    "            optimizer.zero_grad()\n",
    "# ======== TASK 2 end your code here ===================================\n",
    "            loss.backward()\n",
    "# ======== TASK 2 start your code here =================================\n",
    "            optimizer.step()\n",
    "# ======== TASK 2 end your code here ===================================\n",
    "            break\n",
    "\n",
    "    model.device = 'cpu'\n",
    "    torch.save({'tokenizer':dataset.index2token,'model':model.cpu()},\"genmodelnew.pt\")\n",
    "train()\n",
    "\n"
   ]
  },
  {
   "cell_type": "markdown",
   "id": "93e35118-47f5-4d24-ba84-be9f084e2553",
   "metadata": {},
   "source": [
    "## Generating molecules\n",
    "\n",
    "$\\color{DarkBlue}{\\textbf{Task:}}$\n",
    "* call the <code>generate()</code> function to produce a list of molecules "
   ]
  },
  {
   "cell_type": "code",
   "execution_count": 6,
   "id": "2bdd2c8f-82b7-46bc-a168-a46b1f18df0f",
   "metadata": {},
   "outputs": [
    {
     "name": "stdout",
     "output_type": "stream",
     "text": [
      "torch.Size([3, 64, 512])\n"
     ]
    },
    {
     "data": {
      "text/plain": [
       "(['Cc1ccc(C)c(C=O)c1',\n",
       "  'C#CCOc1cccc([C@H]2C[NH+]=C(N)C(C)(C)C2)c1',\n",
       "  'COc1cccc(-c2ccc([O-])c(N)c2)c1',\n",
       "  'Cc1noc(C)c1C[NH+]1CCN(c2ncc(C)s2)CC1',\n",
       "  'Cc1cc([C@@](C)(O)[C@@H]2CCOC2)c(C)n1C1CC1',\n",
       "  'COc1ccc(C)cc1NC(=O)N1C[C@H](O)N[C@@H](C)CC2=CC=C1CC2',\n",
       "  'CS(=O)(=O)N1CCN(C(=O)CCc2c[nH]c(=O)[nH]2)C1',\n",
       "  'CN1CC[C@@H]([NH3+])[C@H]1[C@@H]1CCOC1',\n",
       "  'COc1cccc(NS(=O)(=O)c2cc3sccc3nc2S(=O)(=O)N2CCCCCC2)c1',\n",
       "  'Cc1ccc(-n2ccnc2C#N)cc1N',\n",
       "  'Cc1cc(NC(=O)[C@H]2CCN(C(=O)c3cc4ccccc4[nH]3)C2=O)c(C)n1C',\n",
       "  'C[C@@H](c1ccccc1)c1ccc(/N=C/[N+]=N\\\\N)cc1',\n",
       "  'CCS(=O)(=O)N1CCN(C(=O)c2c(C)[nH]c(=O)[nH]c2=O)C1',\n",
       "  'COC(=O)C1=[N+](C)[C@@H](c2ccccc2)CC(=O)N1Cc1ccc(Cl)cc1Cl',\n",
       "  'C[C@H]1CN([C@]2(O)CCCN(Cc3ccc(Br)cc3)C2)C[C@H](C)O1',\n",
       "  'CCc1ccc([N-]S(=O)(=O)Cc2ccc(F)cc2)cc1C',\n",
       "  'CC[C@@](O)(CCCO)C1([NH3+])CCCCC1',\n",
       "  'CC[C@](C)([NH3+])C(=O)c1ccc2c(c1)oc(=O)n2C',\n",
       "  'CC(C)SCc1cn[nH]n1',\n",
       "  'O=C(Cn1nnc2ccccc2c1=O)N1CCC[C@@H]1c1cccnc1',\n",
       "  'Cc1noc(C)c1CNC(=O)N[C@@H]1CCCC[C@@H]1c1ccccc1',\n",
       "  'CCN(CC)C(=O)[C@@H](Br)C(F)(F)F',\n",
       "  'CCN(Cc1ccc(C)cc1)[C@H]1C=C[C@@H](C)C1',\n",
       "  'CCOC(=O)C1=C(C)Oc2ccc(C)cc2N1',\n",
       "  'C[C@@H](CCc1ccc(Cl)cc1)NC(=O)N1CCN(C(=O)c2scnc2C)CC1',\n",
       "  'COc1cccc([C@@H](C)CNC(=O)[C@@H]2CCC(=O)N(C3CC3)C2)c1',\n",
       "  'CCc1ccsc1Cc1nc(C(C)(C)C)no1',\n",
       "  'COc1ccc(CNC(=O)[C@H]2CCN([C@H](C)c3ccccc3)C2)cc1',\n",
       "  'c1ccc(Cl)cn1',\n",
       "  'CC[C@](C)(O)CNc1ccc2c(c1)-c1ccccc1SC2',\n",
       "  'NC(=O)NCCN(Cc1cccn1C)C(=O)Cc1ccc(Cl)cc1',\n",
       "  'Cc1ccsc1CN(C)C(=O)c1cnc(S(=O)(=O)N2CCCC2)s1',\n",
       "  'CC[C@@]([NH3+])(CNC(=O)Nc1ccccc1)c1ccc(F)cc1',\n",
       "  'C[C@@H]1CCCC[NH+]1CC(=O)CSC1=C[C@H](C)SC1=Nc1ccc([N+](=O)[O-])cc1',\n",
       "  'Cc1c([C@@H](C)[NH2+]CCOC)[nH]c2ccc(Br)cc12',\n",
       "  'CCC[C@H]1CCCC[NH+]1CCC[NH+]1C[C@H](C)C[C@@H](C)C1',\n",
       "  'CN[C@]1(C#N)CCCC1(C)C',\n",
       "  'CCOCCCc1[nH]c2ccccc2c1NC(=O)CCC(N)=O',\n",
       "  'CC1CCC(C(=O)NC[C@H](C)Oc2ccccc2)CC1',\n",
       "  'C=CCc1cc(F)c(Cl)cc1CNC(=O)NCc1ccc(C)o1',\n",
       "  'CC(C)(C)OC(=O)N1CCC[C@@H](c2[nH]cc[nH+]2)C1',\n",
       "  'C[C@H](CCc1ccccc1)N1CCO[C@H](c2cccc(F)c2)C1',\n",
       "  'C[C@H]1CN(CC(=O)NC2CCCCCC2)C[C@@H](C)O1',\n",
       "  'CC(=O)NC[C@@H](CCl)[NH+]1CC[C@H](C)[C@@H](O)C1',\n",
       "  'COc1ccc2c(C(=O)c3ccc(F)cc3)c(-c3ccc(C(=O)[O-])o3)c(C)nc2c1',\n",
       "  'O=C(Nc1nc(-c2cccs2)ccc1F)c1ccnc(-n2cccn2)n1',\n",
       "  'CCOC(=O)[C@H]1CCCCC[C@H]1NC(=O)c1cnn(Cc2ccccc2)c1C',\n",
       "  'C[C@H](CC(N)=O)[NH2+]Cc1ccc2c(c1)OCCCO2',\n",
       "  'COc1ccc(/C=C2/CC=C/CC2=O)c(N)c1',\n",
       "  'CC(C)[C@@H]([NH2+]Cc1ccc(C)cc1)[C@@H]1CCOC1',\n",
       "  'C[C@@H](NC(=O)N1CCN(c2nccs2)CC1)C1CC[NH+](C)CC1',\n",
       "  'CC(C)c1ccc(CSCc2c(Cl)n[nH]c2C)o1',\n",
       "  'COc1ccc(NC(=O)c2ccn(-c3cccc(C)c3)n2)cc1F',\n",
       "  'COCC[C@@H](C)NC(=O)[C@H]1CCCN(c2ccccc2)C1'],\n",
       " 84.375)"
      ]
     },
     "execution_count": 6,
     "metadata": {},
     "output_type": "execute_result"
    }
   ],
   "source": [
    "# ======== start your code here =================================\n",
    "generate()\n",
    "# ======== end your code here ==================================="
   ]
  },
  {
   "cell_type": "markdown",
   "id": "5761eff9-cc23-4aee-af34-2f80146e1ab3",
   "metadata": {},
   "source": [
    "## Visualizing molecules\n",
    "\n",
    "$\\color{DarkBlue}{\\textbf{Task:}}$\n",
    "* Use RDKit to draw some of the produced chemical structures to assess how realistic they are."
   ]
  },
  {
   "cell_type": "code",
   "execution_count": 7,
   "id": "3078be70-e865-4162-98e3-4a8fb3dc3bed",
   "metadata": {},
   "outputs": [
    {
     "name": "stdout",
     "output_type": "stream",
     "text": [
      "torch.Size([3, 64, 512])\n"
     ]
    },
    {
     "data": {
      "image/png": "[encoded data removed]",
      "text/plain": [
       "<IPython.core.display.Image object>"
      ]
     },
     "execution_count": 7,
     "metadata": {},
     "output_type": "execute_result"
    }
   ],
   "source": [
    "# ======== start your code here =================================\n",
    "batch_size = 64\n",
    "smiles, pc = generate(batch_size=batch_size)\n",
    "n_print = 9\n",
    "len_smiles = len(smiles)\n",
    "indicies = []\n",
    "mols = []\n",
    "n = 0\n",
    "while n < n_print:\n",
    "    index = int(random.random() * len_smiles)\n",
    "    if index not in indicies:\n",
    "        indicies.append(index)\n",
    "        mols.append(Chem.MolFromSmiles(smiles[index]))\n",
    "        n += 1\n",
    "\n",
    "Draw.MolsToGridImage(mols)\n",
    "\n",
    "\n",
    "# ======== end your code here ==================================="
   ]
  },
  {
   "cell_type": "markdown",
   "id": "8dbb696a-0616-4ef0-aeea-d745a0a1cb36",
   "metadata": {},
   "source": [
    "$\\color{DarkBlue}{\\textbf{Question 1:}}$ How can the RNN model be further improved to generate useful molecules with certain desired properties?"
   ]
  },
  {
   "cell_type": "markdown",
   "id": "43bd066b-b11c-4c87-b1af-0e730fdec893",
   "metadata": {},
   "source": [
    "$\\color{Grey}{\\textsf{<double-click and type your answer here>}}$"
   ]
  },
  {
   "cell_type": "markdown",
   "id": "ab74dda8-d259-461d-9f9b-518991bd879e",
   "metadata": {},
   "source": [
    "## Conclusions\n",
    "\n",
    "This ends this part of the final ML4Chem Tutorial on Advanced Neural Networks.\n",
    "\n",
    "In this tutorial, we have used a RNN to generate new molecules from Smiles strings. Apart from obtaining a deeper understanding of the possibilites of neural networks, the PyTorch library, saving and loading trainined networks, we hope that this tutorial has also inspired you to think of other possibilities and applications of machine learning for chemistry! \n"
   ]
  },
  {
   "cell_type": "code",
   "execution_count": null,
   "id": "338ec7ea-88f7-4ab9-b887-fab2e115bff1",
   "metadata": {},
   "outputs": [],
   "source": []
  }
 ],
 "metadata": {
  "kernelspec": {
   "display_name": "Python 3 (ipykernel)",
   "language": "python",
   "name": "python3"
  },
  "language_info": {
   "codemirror_mode": {
    "name": "ipython",
    "version": 3
   },
   "file_extension": ".py",
   "mimetype": "text/x-python",
   "name": "python",
   "nbconvert_exporter": "python",
   "pygments_lexer": "ipython3",
   "version": "3.11.9"
  }
 },
 "nbformat": 4,
 "nbformat_minor": 5
}
